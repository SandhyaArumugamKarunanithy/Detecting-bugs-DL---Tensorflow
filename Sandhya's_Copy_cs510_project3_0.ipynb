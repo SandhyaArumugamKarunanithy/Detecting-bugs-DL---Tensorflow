{
  "cells": [
    {
      "cell_type": "markdown",
      "metadata": {
        "id": "rX8mhOLljYeM"
      },
      "source": [
        "# CS 510 Project 3-0"
      ]
    },
    {
      "cell_type": "code",
      "execution_count": 1,
      "metadata": {
        "cellView": "form",
        "id": "BZSlp3DAjdYf"
      },
      "outputs": [],
      "source": [
        "#@title Licensed under the Apache License, Version 2.0 (the \"License\");\n",
        "# you may not use this file except in compliance with the License.\n",
        "# You may obtain a copy of the License at\n",
        "#\n",
        "# https://www.apache.org/licenses/LICENSE-2.0\n",
        "#\n",
        "# Unless required by applicable law or agreed to in writing, software\n",
        "# distributed under the License is distributed on an \"AS IS\" BASIS,\n",
        "# WITHOUT WARRANTIES OR CONDITIONS OF ANY KIND, either express or implied.\n",
        "# See the License for the specific language governing permissions and\n",
        "# limitations under the License."
      ]
    },
    {
      "cell_type": "markdown",
      "metadata": {
        "id": "3wF5wszaj97Y"
      },
      "source": [
        "# Part 0: train your own MNIST model"
      ]
    },
    {
      "cell_type": "markdown",
      "metadata": {
        "id": "uJNruuoIODV1"
      },
      "source": [
        "The following training code is mainly based on [TensorFlow 2 quickstart for experts](https://www.tensorflow.org/tutorials/quickstart/advanced). The goal of this part is to familiarize yourself with basic usage of Colab notebook and TensorFlow. In this part, you only need to learn and run the code. By the end of this part, you will get a neural network which can classifiy the handwritten data with ~98% accuracy."
      ]
    },
    {
      "cell_type": "markdown",
      "metadata": {
        "id": "hiH7AC-NTniF"
      },
      "source": [
        "This is a [Google Colaboratory](https://colab.research.google.com/notebooks/welcome.ipynb) notebook file. Python programs are run directly in the browser—a great way to learn and use TensorFlow. To follow this tutorial, run the notebook in Google Colab by clicking the button at the top of this page.\n",
        "\n",
        "1. In Colab, connect to a Python runtime: At the top-right of the menu bar, select *CONNECT*.\n",
        "2. Run all the notebook code cells: Select *Runtime* > *Run all*.\n"
      ]
    },
    {
      "cell_type": "markdown",
      "metadata": {
        "id": "eOsVdx6GGHmU"
      },
      "source": [
        "Download and install TensorFlow 2. Import TensorFlow into your program:\n",
        "\n",
        "Note: Upgrade `pip` to install the TensorFlow 2 package. See the [install guide](https://www.tensorflow.org/install) for details."
      ]
    },
    {
      "cell_type": "markdown",
      "metadata": {
        "id": "QS7DDTiZGRTo"
      },
      "source": [
        "Import TensorFlow into your program:"
      ]
    },
    {
      "cell_type": "code",
      "execution_count": 2,
      "metadata": {
        "colab": {
          "base_uri": "https://localhost:8080/"
        },
        "id": "0trJmd6DjqBZ",
        "outputId": "dd48b493-8df8-4d22-b812-0ccce61cf8eb"
      },
      "outputs": [
        {
          "output_type": "stream",
          "name": "stdout",
          "text": [
            "TensorFlow version: 2.8.0\n"
          ]
        }
      ],
      "source": [
        "import random\n",
        "import numpy as np\n",
        "\n",
        "import tensorflow as tf\n",
        "print(\"TensorFlow version:\", tf.__version__)\n",
        "\n",
        "from tensorflow.keras.layers import Dense, Flatten, Conv2D\n",
        "from tensorflow.keras import Model\n",
        "\n",
        "random.seed(0)\n",
        "tf.random.set_seed(0)\n",
        "np.random.seed(0)\n",
        "tf.keras.utils.set_random_seed(0)\n",
        "tf.config.experimental.enable_op_determinism()"
      ]
    },
    {
      "cell_type": "markdown",
      "metadata": {
        "id": "7NAbSZiaoJ4z"
      },
      "source": [
        "Load and prepare the [MNIST dataset](http://yann.lecun.com/exdb/mnist/)."
      ]
    },
    {
      "cell_type": "code",
      "execution_count": 3,
      "metadata": {
        "id": "JqFRS6K07jJs"
      },
      "outputs": [],
      "source": [
        "mnist = tf.keras.datasets.mnist\n",
        "\n",
        "(x_train, y_train), (x_test, y_test) = mnist.load_data()\n",
        "x_train, x_test = x_train / 255.0, x_test / 255.0\n",
        "\n",
        "# Add a channels dimension\n",
        "x_train = x_train[..., tf.newaxis].astype(\"float32\")\n",
        "x_test = x_test[..., tf.newaxis].astype(\"float32\")"
      ]
    },
    {
      "cell_type": "markdown",
      "metadata": {
        "id": "k1Evqx0S22r_"
      },
      "source": [
        "Use `tf.data` to batch and shuffle the dataset:"
      ]
    },
    {
      "cell_type": "code",
      "execution_count": 4,
      "metadata": {
        "id": "8Iu_quO024c2"
      },
      "outputs": [],
      "source": [
        "train_ds = tf.data.Dataset.from_tensor_slices(\n",
        "    (x_train, y_train)).shuffle(10000).batch(32)\n",
        "\n",
        "test_ds = tf.data.Dataset.from_tensor_slices((x_test, y_test)).batch(32)"
      ]
    },
    {
      "cell_type": "markdown",
      "metadata": {
        "id": "uuhRTiMDNWFL"
      },
      "source": [
        "Show some training images."
      ]
    },
    {
      "cell_type": "code",
      "execution_count": 5,
      "metadata": {
        "colab": {
          "base_uri": "https://localhost:8080/",
          "height": 591
        },
        "id": "_k3mQFERNRhX",
        "outputId": "92920a9f-70dc-4272-e006-f5eb54cfe37a"
      },
      "outputs": [
        {
          "output_type": "display_data",
          "data": {
            "text/plain": [
              "<Figure size 720x720 with 9 Axes>"
            ],
            "image/png": "[encoded data removed]"
          },
          "metadata": {
            "needs_background": "light"
          }
        }
      ],
      "source": [
        "import matplotlib.pyplot as plt\n",
        "\n",
        "plt.figure(figsize=(10, 10))\n",
        "for images, labels in train_ds.take(1):\n",
        "  for i in range(9):\n",
        "    ax = plt.subplot(3, 3, i + 1)\n",
        "    plt.imshow((images[i]*255).numpy().astype(\"uint8\").reshape(28, 28), cmap='gray', vmin=0, vmax=255)\n",
        "    plt.title(labels[i].numpy())\n",
        "    plt.axis(\"off\")"
      ]
    },
    {
      "cell_type": "markdown",
      "metadata": {
        "id": "BPZ68wASog_I"
      },
      "source": [
        "Build the `tf.keras` model using the Keras [model subclassing API](https://www.tensorflow.org/guide/keras#model_subclassing):"
      ]
    },
    {
      "cell_type": "code",
      "execution_count": 6,
      "metadata": {
        "id": "h3IKyzTCDNGo"
      },
      "outputs": [],
      "source": [
        "class MyModel(Model):\n",
        "  def __init__(self):\n",
        "    super(MyModel, self).__init__()\n",
        "    self.flatten = Flatten()\n",
        "    self.d0 = Dense(300, activation='relu')\n",
        "    self.d1 = Dense(200, activation='relu')\n",
        "    self.d2 = Dense(10)\n",
        "\n",
        "  def call(self, x):\n",
        "    x = self.flatten(x)\n",
        "    x = self.d0(x)\n",
        "    x = self.d1(x)\n",
        "    return self.d2(x)\n",
        "\n",
        "  def get_internal_activations(self, x):\n",
        "    x = self.flatten(x)\n",
        "    x_d0 = self.d0(x)\n",
        "    x_d1 = self.d1(x_d0)\n",
        "    x_d2 = self.d2(x_d1)\n",
        "    return x_d0, x_d1, x_d2\n",
        "\n",
        "# Create an instance of the model\n",
        "model = MyModel()"
      ]
    },
    {
      "cell_type": "markdown",
      "metadata": {
        "id": "uGih-c2LgbJu"
      },
      "source": [
        "Choose an optimizer and loss function for training: "
      ]
    },
    {
      "cell_type": "code",
      "execution_count": 7,
      "metadata": {
        "id": "u48C9WQ774n4"
      },
      "outputs": [],
      "source": [
        "#@tf.function\n",
        "def loss_object(target, pred):\n",
        "  target = tf.one_hot(target, 10)\n",
        "  pred_conf = tf.nn.softmax(pred)\n",
        "  cross_entropy = -tf.reduce_sum(target * tf.math.log(pred_conf))\n",
        "  return cross_entropy\n",
        "\n",
        "optimizer = tf.keras.optimizers.Adam()"
      ]
    },
    {
      "cell_type": "markdown",
      "metadata": {
        "id": "JB6A1vcigsIe"
      },
      "source": [
        "Select metrics to measure the loss and the accuracy of the model. These metrics accumulate the values over epochs and then print the overall result."
      ]
    },
    {
      "cell_type": "code",
      "execution_count": 8,
      "metadata": {
        "id": "N0MqHFb4F_qn"
      },
      "outputs": [],
      "source": [
        "train_loss = tf.keras.metrics.Mean(name='train_loss')\n",
        "train_accuracy = tf.keras.metrics.SparseCategoricalAccuracy(name='train_accuracy')\n",
        "\n",
        "test_loss = tf.keras.metrics.Mean(name='test_loss')\n",
        "test_accuracy = tf.keras.metrics.SparseCategoricalAccuracy(name='test_accuracy')"
      ]
    },
    {
      "cell_type": "markdown",
      "metadata": {
        "id": "ix4mEL65on-w"
      },
      "source": [
        "Use `tf.GradientTape` to train the model:"
      ]
    },
    {
      "cell_type": "code",
      "execution_count": 9,
      "metadata": {
        "id": "OZACiVqA8KQV"
      },
      "outputs": [],
      "source": [
        "@tf.function\n",
        "def train_step(images, labels):\n",
        "  with tf.GradientTape() as tape:\n",
        "    # training=True is only needed if there are layers with different\n",
        "    # behavior during training versus inference (e.g. Dropout).\n",
        "    predictions = model(images, training=True)\n",
        "    loss = loss_object(labels, predictions)\n",
        "  gradients = tape.gradient(loss, model.trainable_variables)\n",
        "  optimizer.apply_gradients(zip(gradients, model.trainable_variables))\n",
        "\n",
        "  train_loss(loss)\n",
        "  train_accuracy(labels, predictions)"
      ]
    },
    {
      "cell_type": "markdown",
      "metadata": {
        "id": "Z8YT7UmFgpjV"
      },
      "source": [
        "Test the model:"
      ]
    },
    {
      "cell_type": "code",
      "execution_count": 10,
      "metadata": {
        "id": "xIKdEzHAJGt7"
      },
      "outputs": [],
      "source": [
        "@tf.function\n",
        "def test_step(images, labels):\n",
        "  # training=False is only needed if there are layers with different\n",
        "  # behavior during training versus inference (e.g. Dropout).\n",
        "  predictions = model(images, training=False)\n",
        "  t_loss = loss_object(labels, predictions)\n",
        "\n",
        "  test_loss(t_loss)\n",
        "  test_accuracy(labels, predictions)"
      ]
    },
    {
      "cell_type": "code",
      "execution_count": null,
      "metadata": {
        "colab": {
          "base_uri": "https://localhost:8080/"
        },
        "id": "i-2pkctU_Ci7",
        "outputId": "b733d7f9-bf26-4f73-cdce-69e7f63779a3"
      },
      "outputs": [
        {
          "output_type": "stream",
          "name": "stdout",
          "text": [
            "Epoch 1, Loss: 6.265469074249268, Accuracy: 94.13333892822266, Test Loss: 3.3146731853485107, Test Accuracy: 96.73999786376953\n",
            "Epoch 2, Loss: 2.6318907737731934, Accuracy: 97.40666961669922, Test Loss: 3.4248721599578857, Test Accuracy: 96.79000091552734\n",
            "Epoch 3, Loss: 1.7911698818206787, Accuracy: 98.22666931152344, Test Loss: 2.5635366439819336, Test Accuracy: 97.61000061035156\n"
          ]
        }
      ],
      "source": [
        "EPOCHS = 5\n",
        "\n",
        "for epoch in range(EPOCHS):\n",
        "  # Reset the metrics at the start of the next epoch\n",
        "  train_loss.reset_states()\n",
        "  train_accuracy.reset_states()\n",
        "  test_loss.reset_states()\n",
        "  test_accuracy.reset_states()\n",
        "\n",
        "  for images, labels in train_ds:\n",
        "    train_step(images, labels)\n",
        "\n",
        "  for test_images, test_labels in test_ds:\n",
        "    test_step(test_images, test_labels)\n",
        "\n",
        "  print(\n",
        "    f'Epoch {epoch + 1}, '\n",
        "    f'Loss: {train_loss.result()}, '\n",
        "    f'Accuracy: {train_accuracy.result() * 100}, '\n",
        "    f'Test Loss: {test_loss.result()}, '\n",
        "    f'Test Accuracy: {test_accuracy.result() * 100}'\n",
        "  )"
      ]
    },
    {
      "cell_type": "markdown",
      "metadata": {
        "id": "T4JfEh7kvx6m"
      },
      "source": [
        "The image classifier is now trained to ~98% accuracy on this dataset. To learn more, read the [TensorFlow tutorials](https://www.tensorflow.org/tutorials)."
      ]
    },
    {
      "cell_type": "markdown",
      "metadata": {
        "id": "81ngj9KmNpAQ"
      },
      "source": [
        "# Part 1: find inputs exposing the bugs"
      ]
    },
    {
      "cell_type": "markdown",
      "metadata": {
        "id": "CDHpd-axPL_s"
      },
      "source": [
        "In this part, you need to find a set of 9 inputs which can:\n",
        "\n",
        "1. cover at least 85% neurons (with threshold 0.4). A neuron is covered if its activation value (after the activation function) is larger than the threshold.\n",
        "2. trigger the bugs in the loss function `loss_object` so that the loss is inf / nan.\n",
        "\n",
        "You don't need to change any code in Part 0."
      ]
    },
    {
      "cell_type": "markdown",
      "metadata": {
        "id": "gPJsXwZfUbA0"
      },
      "source": [
        "We will evaluate the neuron coverage using the following `eval_nac` function."
      ]
    },
    {
      "cell_type": "code",
      "execution_count": null,
      "metadata": {
        "id": "6-mz4Eu0UNJj"
      },
      "outputs": [],
      "source": [
        "expected_nac = 0.85\n",
        "nac_threshold = 0.4\n",
        "@tf.function\n",
        "def eval_nac(x):\n",
        "  x_d0, x_d1, _ = model.get_internal_activations(x)\n",
        "  cnt_d0 = tf.reduce_sum(tf.cast(tf.reduce_any(x_d0>nac_threshold, axis=0), tf.float32))\n",
        "  cnt_d1 = tf.reduce_sum(tf.cast(tf.reduce_any(x_d1>nac_threshold, axis=0), tf.float32))\n",
        "  nac = (cnt_d0+cnt_d1)/tf.cast(x_d0.shape[1]+x_d1.shape[1], tf.float32)\n",
        "  return nac"
      ]
    },
    {
      "cell_type": "markdown",
      "metadata": {
        "id": "rrIn4d6hU5BP"
      },
      "source": [
        "Let's test how much coverage a random input can achieve."
      ]
    },
    {
      "cell_type": "code",
      "execution_count": null,
      "metadata": {
        "id": "MZMTD3euVoIG"
      },
      "outputs": [],
      "source": [
        "x = tf.random.uniform([1, 28, 28, 1])\n",
        "eval_nac(x)"
      ]
    },
    {
      "cell_type": "markdown",
      "metadata": {
        "id": "ECdyg0TsVLkq"
      },
      "source": [
        "Please develop your loss function and algorithm to find the desired inputs. The high-level idea is similar to training a model or generating adversarial examples.\n",
        "\n",
        "**Note: Please do not change code before this cell and start your code in the next cell.**\n",
        "\n",
        "\n",
        "```\n",
        "def my_loss_object(...):\n",
        "  ...\n",
        "def explore(...):\n",
        "  inputs = ...\n",
        "  outputs = model.get_internal_activations(x)\n",
        "  loss = my_loss_object(outputs, ...)\n",
        "  # compute the gradient using `tf.GradientTape`\n",
        "  # update inputs according to the gradient\n",
        "  # succeed if `loss_object` output is nan/inf and `eval_nac > expected_nac`\n",
        "```\n",
        "\n"
      ]
    },
    {
      "cell_type": "markdown",
      "source": [
        "# Sandhya's Solution\n"
      ],
      "metadata": {
        "id": "Jgcv3IxAJa3S"
      }
    },
    {
      "cell_type": "code",
      "source": [
        "@tf.function\n",
        "#calculating total loss\n",
        "def my_loss_object(x_d0, x_d1,pred):\n",
        "    return bug_loss_object(pred) + nac_loss_object(x_d0, x_d1)\n",
        "#calculating NAC loss\n",
        "def nac_loss_object(x_d0, x_d1):\n",
        "    x_d1 = -1*(tf.math.minimum(x_d1,nac_threshold))\n",
        "    x_d0 = -1*(tf.math.minimum(x_d0,nac_threshold))\n",
        "    return tf.reduce_sum(x_d0)+ tf.reduce_sum(x_d1)\n",
        "#calculating loss bug\n",
        "def bug_loss_object(pred):\n",
        "    pred_conf = tf.nn.softmax(pred)\n",
        "    lossbug = tf.math.reduce_min(pred_conf)\n",
        "    return lossbug"
      ],
      "metadata": {
        "id": "pHEY-xZifBVQ"
      },
      "execution_count": null,
      "outputs": []
    },
    {
      "cell_type": "code",
      "source": [
        "def explore():\n",
        "  EPOCHS = 1000\n",
        "  #initialise inputs\n",
        "  inputs = tf.Variable(x_test[:9])\n",
        "  # set the lr.\n",
        "  step= 0.05\n",
        "  for epoch in range(EPOCHS):\n",
        "  # inputs need to be tf.Variable to get gradients\n",
        "    inputs = tf.Variable(inputs)\n",
        "    pred = model(inputs, training=False)\n",
        "\n",
        "    with tf.GradientTape() as tape:\n",
        "      x_d0, x_d1, _ = model.get_internal_activations(inputs)\n",
        "      calcloss = my_loss_object(x_d0,x_d1,pred)\n",
        "   \n",
        "  # compute the gradient\n",
        "    gradients = tape.gradient(calcloss, inputs)\n",
        "  #optimizer.apply_gradients(zip([gradients], [inputs]))\n",
        "  #use grad to update inputs.\n",
        "    inputs = inputs - tf.math.sign(gradients) * step\n",
        "  # clip the inputs into the legitimate range\n",
        "    inputs = tf.clip_by_value(inputs, 0., 1.)\n",
        "    calculated_nac= eval_nac(inputs)\n",
        "    new_predc = model(inputs, training=False)\n",
        "    lossbug=loss_object(9, new_predc)\n",
        "    print(epoch, calculated_nac, lossbug) \n",
        "  #exit the loop if the expected nac is achieved and the bug is triggered  \n",
        "    if((tf.math.is_nan(lossbug) or tf.math.is_inf(lossbug)) and calculated_nac>expected_nac ):\n",
        "      #print(epoch, \"NAC:\", calculated_nac,\"loss\", lossbug) \n",
        "      return inputs\n",
        "      break\n",
        "explore()"
      ],
      "metadata": {
        "id": "YOW-2z48fFdk"
      },
      "execution_count": null,
      "outputs": []
    }
  ],
  "metadata": {
    "accelerator": "GPU",
    "colab": {
      "collapsed_sections": [],
      "name": "Sandhya's Copy-cs510_project3_0.ipynb",
      "provenance": [],
      "toc_visible": true
    },
    "kernelspec": {
      "display_name": "Python 3",
      "name": "python3"
    }
  },
  "nbformat": 4,
  "nbformat_minor": 0
}